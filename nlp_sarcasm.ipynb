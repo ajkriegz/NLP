{
 "cells": [
  {
   "cell_type": "code",
   "execution_count": 32,
   "metadata": {},
   "outputs": [],
   "source": [
    "# Import dependencies.\n",
    "import json\n",
    "import pprint\n",
    "import tensorflow as tf\n",
    "from tensorflow.keras.preprocessing.text import Tokenizer\n",
    "from tensorflow.keras.preprocessing.sequence import pad_sequences"
   ]
  },
  {
   "cell_type": "code",
   "execution_count": null,
   "metadata": {},
   "outputs": [],
   "source": [
    "# Load the dataset. Data retrieved from rishabhmisra.github.io/publications\n",
    "datastore = [json.loads(line) for line in open(\"resources/sarcasm_v2.json\", 'r')]\n",
    "\n",
    "# Print the JSON data in an easy-to-read format.\n",
    "# pprint.pprint(datastore)"
   ]
  },
  {
   "cell_type": "code",
   "execution_count": 19,
   "metadata": {},
   "outputs": [],
   "source": [
    "# Create lists to hold the data.\n",
    "sentences = []\n",
    "labels = []\n",
    "urls = []\n",
    "\n",
    "# Iterate through the data.\n",
    "for item in datastore:\n",
    "    sentences.append(item['headline'])\n",
    "    labels.append(item['is_sarcastic'])\n",
    "    urls.append(item['article_link'])"
   ]
  },
  {
   "cell_type": "code",
   "execution_count": 24,
   "metadata": {},
   "outputs": [
    {
     "name": "stdout",
     "output_type": "stream",
     "text": [
      "[1 1 1 1 1 3 1 1 0 0 0 0 0 0 0 0 0 0 0 0 0 0 0 0 0 0 0 0 0 0 0 0 0 0 0 0 0\n",
      " 0 0 0 0 0 0 0 0 0 0 0 0 0 0 0 0 0 0 0 0 0 0 0 0 0 0 0 0 0 0 0 0 0 0 0 0 0\n",
      " 0 0 0 0 0 0 0 0 0 0 0 0 0 0 0 0 0 0 0 0 0 0 0 0 0 0 0 0 0 0 0 0 0 0 0 0 0\n",
      " 0 0 0 0 0 0 0 0 0 0 0 0 0 0 0 0 0 0 0 0 0 0 0 0 0 0 0 0 0 0 0 0 0 0 0 0 0\n",
      " 0 0 0 0]\n",
      "(28619, 152)\n"
     ]
    }
   ],
   "source": [
    "# Initialize the Tokenizer\n",
    "tokenizer = Tokenizer(num_words = 100, oov_token=\"<OOV>\") # Words not in the index will now be replaced by this Out Of Vocabulary tag.\n",
    "\n",
    "# Train the model with sentences.\n",
    "tokenizer.fit_on_texts(sentences)\n",
    "word_index = tokenizer.word_index\n",
    "\n",
    "# Create sequences using the word index, then pad the shorter sequences.\n",
    "sequences = tokenizer.texts_to_sequences(sentences)\n",
    "padded = pad_sequences(sequences, padding='post')\n",
    "\n",
    "# Examine the data.\n",
    "print(padded[0])\n",
    "print(padded.shape)"
   ]
  },
  {
   "cell_type": "code",
   "execution_count": 27,
   "metadata": {},
   "outputs": [],
   "source": [
    "# Set parameters for tokenizer\n",
    "vocab_size = 10000\n",
    "embedding_dim = 16\n",
    "max_length = 100\n",
    "trunc_type='post'\n",
    "padding_type='post'\n",
    "oov_tok = \"<OOV>\"\n",
    "training_size = 20000"
   ]
  },
  {
   "cell_type": "code",
   "execution_count": 28,
   "metadata": {},
   "outputs": [],
   "source": [
    "# Create the training and testing sets.\n",
    "training_sentences = sentences[0:training_size]\n",
    "testing_sentences = sentences[training_size:]\n",
    "training_labels = labels[0:training_size]\n",
    "testing_labels = labels[training_size:]"
   ]
  },
  {
   "cell_type": "code",
   "execution_count": 29,
   "metadata": {},
   "outputs": [],
   "source": [
    "# Initialize the Tokenizer with just the training corpus.\n",
    "tokenizer = Tokenizer(num_words=vocab_size, oov_token=oov_tok)\n",
    "tokenizer.fit_on_texts(training_sentences)\n",
    "\n",
    "word_index = tokenizer.word_index\n",
    "\n",
    "# Create training and testing sequences\n",
    "training_sequences = tokenizer.texts_to_sequences(training_sentences)\n",
    "training_padded = pad_sequences(training_sequences, maxlen=max_length, padding=padding_type, truncating=trunc_type)\n",
    "\n",
    "testing_sequences = tokenizer.texts_to_sequences(testing_sentences)\n",
    "testing_padded = pad_sequences(testing_sequences, maxlen=max_length, padding=padding_type, truncating=trunc_type)"
   ]
  },
  {
   "cell_type": "code",
   "execution_count": 30,
   "metadata": {},
   "outputs": [],
   "source": [
    "# Need this block to get it to work with TensorFlow 2.x\n",
    "import numpy as np\n",
    "training_padded = np.array(training_padded)\n",
    "training_labels = np.array(training_labels)\n",
    "testing_padded = np.array(testing_padded)\n",
    "testing_labels = np.array(testing_labels)"
   ]
  },
  {
   "cell_type": "code",
   "execution_count": 33,
   "metadata": {},
   "outputs": [],
   "source": [
    "# Create a model that embeds the vectors\n",
    "model = tf.keras.Sequential([\n",
    "    tf.keras.layers.Embedding(vocab_size, embedding_dim, input_length=max_length),\n",
    "    tf.keras.layers.GlobalAveragePooling1D(),\n",
    "    tf.keras.layers.Dense(24, activation='relu'),\n",
    "    tf.keras.layers.Dense(1, activation='sigmoid')\n",
    "])\n",
    "model.compile(loss='binary_crossentropy',optimizer='adam',metrics=['accuracy'])"
   ]
  },
  {
   "cell_type": "code",
   "execution_count": 34,
   "metadata": {},
   "outputs": [
    {
     "name": "stdout",
     "output_type": "stream",
     "text": [
      "Model: \"sequential\"\n",
      "_________________________________________________________________\n",
      " Layer (type)                Output Shape              Param #   \n",
      "=================================================================\n",
      " embedding (Embedding)       (None, 100, 16)           160000    \n",
      "                                                                 \n",
      " global_average_pooling1d (G  (None, 16)               0         \n",
      " lobalAveragePooling1D)                                          \n",
      "                                                                 \n",
      " dense (Dense)               (None, 24)                408       \n",
      "                                                                 \n",
      " dense_1 (Dense)             (None, 1)                 25        \n",
      "                                                                 \n",
      "=================================================================\n",
      "Total params: 160,433\n",
      "Trainable params: 160,433\n",
      "Non-trainable params: 0\n",
      "_________________________________________________________________\n"
     ]
    }
   ],
   "source": [
    "model.summary()"
   ]
  },
  {
   "cell_type": "code",
   "execution_count": 35,
   "metadata": {},
   "outputs": [
    {
     "name": "stdout",
     "output_type": "stream",
     "text": [
      "Epoch 1/30\n",
      "625/625 - 3s - loss: 0.6580 - accuracy: 0.6130 - val_loss: 0.5491 - val_accuracy: 0.8084 - 3s/epoch - 5ms/step\n",
      "Epoch 2/30\n",
      "625/625 - 1s - loss: 0.4238 - accuracy: 0.8318 - val_loss: 0.3750 - val_accuracy: 0.8409 - 1s/epoch - 2ms/step\n",
      "Epoch 3/30\n",
      "625/625 - 1s - loss: 0.3165 - accuracy: 0.8737 - val_loss: 0.3448 - val_accuracy: 0.8491 - 1s/epoch - 2ms/step\n",
      "Epoch 4/30\n",
      "625/625 - 1s - loss: 0.2647 - accuracy: 0.8974 - val_loss: 0.3334 - val_accuracy: 0.8546 - 1s/epoch - 2ms/step\n",
      "Epoch 5/30\n",
      "625/625 - 1s - loss: 0.2284 - accuracy: 0.9123 - val_loss: 0.3399 - val_accuracy: 0.8543 - 1s/epoch - 2ms/step\n",
      "Epoch 6/30\n",
      "625/625 - 1s - loss: 0.2023 - accuracy: 0.9240 - val_loss: 0.3374 - val_accuracy: 0.8530 - 1s/epoch - 2ms/step\n",
      "Epoch 7/30\n",
      "625/625 - 1s - loss: 0.1792 - accuracy: 0.9331 - val_loss: 0.3492 - val_accuracy: 0.8509 - 1s/epoch - 2ms/step\n",
      "Epoch 8/30\n",
      "625/625 - 1s - loss: 0.1620 - accuracy: 0.9409 - val_loss: 0.3928 - val_accuracy: 0.8363 - 1s/epoch - 2ms/step\n",
      "Epoch 9/30\n",
      "625/625 - 1s - loss: 0.1471 - accuracy: 0.9474 - val_loss: 0.3753 - val_accuracy: 0.8500 - 1s/epoch - 2ms/step\n",
      "Epoch 10/30\n",
      "625/625 - 1s - loss: 0.1341 - accuracy: 0.9520 - val_loss: 0.3958 - val_accuracy: 0.8451 - 1s/epoch - 2ms/step\n",
      "Epoch 11/30\n",
      "625/625 - 1s - loss: 0.1213 - accuracy: 0.9572 - val_loss: 0.4205 - val_accuracy: 0.8401 - 1s/epoch - 2ms/step\n",
      "Epoch 12/30\n",
      "625/625 - 1s - loss: 0.1116 - accuracy: 0.9621 - val_loss: 0.4400 - val_accuracy: 0.8385 - 1s/epoch - 2ms/step\n",
      "Epoch 13/30\n",
      "625/625 - 1s - loss: 0.1020 - accuracy: 0.9651 - val_loss: 0.4678 - val_accuracy: 0.8351 - 1s/epoch - 2ms/step\n",
      "Epoch 14/30\n",
      "625/625 - 1s - loss: 0.0931 - accuracy: 0.9694 - val_loss: 0.4915 - val_accuracy: 0.8330 - 999ms/epoch - 2ms/step\n",
      "Epoch 15/30\n",
      "625/625 - 1s - loss: 0.0862 - accuracy: 0.9712 - val_loss: 0.5552 - val_accuracy: 0.8256 - 1s/epoch - 2ms/step\n",
      "Epoch 16/30\n",
      "625/625 - 1s - loss: 0.0798 - accuracy: 0.9744 - val_loss: 0.5524 - val_accuracy: 0.8285 - 1s/epoch - 2ms/step\n",
      "Epoch 17/30\n",
      "625/625 - 1s - loss: 0.0720 - accuracy: 0.9772 - val_loss: 0.5843 - val_accuracy: 0.8256 - 1s/epoch - 2ms/step\n",
      "Epoch 18/30\n",
      "625/625 - 1s - loss: 0.0676 - accuracy: 0.9785 - val_loss: 0.6668 - val_accuracy: 0.8170 - 1s/epoch - 2ms/step\n",
      "Epoch 19/30\n",
      "625/625 - 1s - loss: 0.0621 - accuracy: 0.9805 - val_loss: 0.6538 - val_accuracy: 0.8228 - 1s/epoch - 2ms/step\n",
      "Epoch 20/30\n",
      "625/625 - 1s - loss: 0.0570 - accuracy: 0.9829 - val_loss: 0.6919 - val_accuracy: 0.8220 - 1s/epoch - 2ms/step\n",
      "Epoch 21/30\n",
      "625/625 - 1s - loss: 0.0534 - accuracy: 0.9845 - val_loss: 0.7269 - val_accuracy: 0.8195 - 992ms/epoch - 2ms/step\n",
      "Epoch 22/30\n",
      "625/625 - 1s - loss: 0.0499 - accuracy: 0.9861 - val_loss: 0.7614 - val_accuracy: 0.8171 - 1s/epoch - 2ms/step\n",
      "Epoch 23/30\n",
      "625/625 - 1s - loss: 0.0466 - accuracy: 0.9858 - val_loss: 0.7912 - val_accuracy: 0.8166 - 1s/epoch - 2ms/step\n",
      "Epoch 24/30\n",
      "625/625 - 1s - loss: 0.0420 - accuracy: 0.9884 - val_loss: 0.8325 - val_accuracy: 0.8147 - 1s/epoch - 2ms/step\n",
      "Epoch 25/30\n",
      "625/625 - 1s - loss: 0.0398 - accuracy: 0.9894 - val_loss: 0.8889 - val_accuracy: 0.8120 - 1s/epoch - 2ms/step\n",
      "Epoch 26/30\n",
      "625/625 - 1s - loss: 0.0365 - accuracy: 0.9895 - val_loss: 0.9048 - val_accuracy: 0.8123 - 1s/epoch - 2ms/step\n",
      "Epoch 27/30\n",
      "625/625 - 1s - loss: 0.0340 - accuracy: 0.9906 - val_loss: 0.9472 - val_accuracy: 0.8100 - 1s/epoch - 2ms/step\n",
      "Epoch 28/30\n",
      "625/625 - 1s - loss: 0.0303 - accuracy: 0.9920 - val_loss: 1.0145 - val_accuracy: 0.8082 - 1s/epoch - 2ms/step\n",
      "Epoch 29/30\n",
      "625/625 - 1s - loss: 0.0278 - accuracy: 0.9931 - val_loss: 1.0365 - val_accuracy: 0.8045 - 1s/epoch - 2ms/step\n",
      "Epoch 30/30\n",
      "625/625 - 1s - loss: 0.0263 - accuracy: 0.9934 - val_loss: 1.0945 - val_accuracy: 0.8057 - 1s/epoch - 2ms/step\n"
     ]
    }
   ],
   "source": [
    "num_epochs = 30\n",
    "history = model.fit(training_padded, training_labels, epochs=num_epochs, validation_data=(testing_padded, testing_labels), verbose=2)"
   ]
  },
  {
   "cell_type": "code",
   "execution_count": null,
   "metadata": {},
   "outputs": [],
   "source": []
  }
 ],
 "metadata": {
  "kernelspec": {
   "display_name": "mlenv",
   "language": "python",
   "name": "python3"
  },
  "language_info": {
   "codemirror_mode": {
    "name": "ipython",
    "version": 3
   },
   "file_extension": ".py",
   "mimetype": "text/x-python",
   "name": "python",
   "nbconvert_exporter": "python",
   "pygments_lexer": "ipython3",
   "version": "3.7.13"
  },
  "orig_nbformat": 4,
  "vscode": {
   "interpreter": {
    "hash": "9c27ce0949eb254817c0fb6a8dae0cc6660ba9cfc6c666d65bbadacb6885d01f"
   }
  }
 },
 "nbformat": 4,
 "nbformat_minor": 2
}
